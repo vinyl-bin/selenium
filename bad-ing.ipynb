{
  "cells": [
    {
      "cell_type": "code",
      "execution_count": 1,
      "metadata": {
        "id": "XXctcIxapSu0"
      },
      "outputs": [],
      "source": [
        "import re\n",
        "import pandas as pd\n",
        "import numpy as np\n",
        "import matplotlib.pyplot as plt\n",
        "import urllib.request\n",
        "from collections import Counter\n",
        "from konlpy.tag import Mecab\n",
        "from sklearn.model_selection import train_test_split\n",
        "from tensorflow.keras.preprocessing.text import Tokenizer\n",
        "from tensorflow.keras.preprocessing.sequence import pad_sequences"
      ]
    },
    {
      "cell_type": "code",
      "execution_count": 2,
      "metadata": {
        "id": "fu5IEK-epVo7"
      },
      "outputs": [
        {
          "data": {
            "text/plain": [
              "('ratings_total.txt', <http.client.HTTPMessage at 0x7f1341ba1890>)"
            ]
          },
          "execution_count": 2,
          "metadata": {},
          "output_type": "execute_result"
        }
      ],
      "source": [
        "urllib.request.urlretrieve(\"https://raw.githubusercontent.com/bab2min/corpus/master/sentiment/naver_shopping.txt\", filename=\"ratings_total.txt\")"
      ]
    },
    {
      "cell_type": "code",
      "execution_count": 3,
      "metadata": {
        "id": "N6Two9dZpYWD"
      },
      "outputs": [
        {
          "name": "stdout",
          "output_type": "stream",
          "text": [
            "전체 리뷰 개수 : 200000\n"
          ]
        }
      ],
      "source": [
        "total_data = pd.read_table('ratings_total.txt', names=['ratings', 'reviews'])\n",
        "print('전체 리뷰 개수 :',len(total_data)) # 전체 리뷰 개수 출력"
      ]
    },
    {
      "cell_type": "code",
      "execution_count": 4,
      "metadata": {
        "id": "68pjkqJ51bhf"
      },
      "outputs": [
        {
          "name": "stderr",
          "output_type": "stream",
          "text": [
            "/home/slim/바탕화면/senticopy/venv/lib/python3.7/site-packages/IPython/core/interactiveshell.py:3553: FutureWarning: The error_bad_lines argument has been deprecated and will be removed in a future version.\n",
            "\n",
            "\n",
            "  exec(code_obj, self.user_global_ns, self.user_ns)\n"
          ]
        },
        {
          "data": {
            "text/plain": [
              "4.78"
            ]
          },
          "execution_count": 4,
          "metadata": {},
          "output_type": "execute_result"
        }
      ],
      "source": [
        "urllib.request.urlretrieve(\"https://raw.githubusercontent.com/vinyl-bin/selenium/main/naverfor_average.csv\", filename=\"ratings_for.csv\")\n",
        "df = pd.read_csv(\"ratings_for.csv\", error_bad_lines=False)\n",
        "total_rating = df['star'].sum() # 판다스 구문으로 cost열을 불러 들이고 sum함수로 값을 더한다.\n",
        "average_rating = round(total_rating / df['star'].count(), 2) # 평균은 count함수로 총합을 나눈다.\n",
        "#data = {'filename': [filename2], 'sum': [total_rating], 'average': [average_rating]}\n",
        "#all_dataFrame.append(pd.DataFrame(data=data)) # data파일을 데이터 프레임으로 만들고 리스트에 저장한다.\n",
        "\n",
        "average_rating"
      ]
    },
    {
      "cell_type": "code",
      "execution_count": 5,
      "metadata": {
        "id": "IrzFl9xfpapu"
      },
      "outputs": [
        {
          "data": {
            "text/html": [
              "<div>\n",
              "<style scoped>\n",
              "    .dataframe tbody tr th:only-of-type {\n",
              "        vertical-align: middle;\n",
              "    }\n",
              "\n",
              "    .dataframe tbody tr th {\n",
              "        vertical-align: top;\n",
              "    }\n",
              "\n",
              "    .dataframe thead th {\n",
              "        text-align: right;\n",
              "    }\n",
              "</style>\n",
              "<table border=\"1\" class=\"dataframe\">\n",
              "  <thead>\n",
              "    <tr style=\"text-align: right;\">\n",
              "      <th></th>\n",
              "      <th>ratings</th>\n",
              "      <th>reviews</th>\n",
              "    </tr>\n",
              "  </thead>\n",
              "  <tbody>\n",
              "    <tr>\n",
              "      <th>0</th>\n",
              "      <td>5</td>\n",
              "      <td>배공빠르고 굿</td>\n",
              "    </tr>\n",
              "    <tr>\n",
              "      <th>1</th>\n",
              "      <td>2</td>\n",
              "      <td>택배가 엉망이네용 저희집 밑에층에 말도없이 놔두고가고</td>\n",
              "    </tr>\n",
              "    <tr>\n",
              "      <th>2</th>\n",
              "      <td>5</td>\n",
              "      <td>아주좋아요 바지 정말 좋아서2개 더 구매했어요 이가격에 대박입니다. 바느질이 조금 ...</td>\n",
              "    </tr>\n",
              "    <tr>\n",
              "      <th>3</th>\n",
              "      <td>2</td>\n",
              "      <td>선물용으로 빨리 받아서 전달했어야 하는 상품이었는데 머그컵만 와서 당황했습니다. 전...</td>\n",
              "    </tr>\n",
              "    <tr>\n",
              "      <th>4</th>\n",
              "      <td>5</td>\n",
              "      <td>민트색상 예뻐요. 옆 손잡이는 거는 용도로도 사용되네요 ㅎㅎ</td>\n",
              "    </tr>\n",
              "  </tbody>\n",
              "</table>\n",
              "</div>"
            ],
            "text/plain": [
              "   ratings                                            reviews\n",
              "0        5                                            배공빠르고 굿\n",
              "1        2                      택배가 엉망이네용 저희집 밑에층에 말도없이 놔두고가고\n",
              "2        5  아주좋아요 바지 정말 좋아서2개 더 구매했어요 이가격에 대박입니다. 바느질이 조금 ...\n",
              "3        2  선물용으로 빨리 받아서 전달했어야 하는 상품이었는데 머그컵만 와서 당황했습니다. 전...\n",
              "4        5                  민트색상 예뻐요. 옆 손잡이는 거는 용도로도 사용되네요 ㅎㅎ"
            ]
          },
          "execution_count": 5,
          "metadata": {},
          "output_type": "execute_result"
        }
      ],
      "source": [
        "total_data[:5]"
      ]
    },
    {
      "cell_type": "code",
      "execution_count": null,
      "metadata": {
        "id": "tUjpv1tB0ZqO"
      },
      "outputs": [],
      "source": []
    },
    {
      "cell_type": "code",
      "execution_count": 6,
      "metadata": {
        "id": "9gDOXCNWpc3b"
      },
      "outputs": [
        {
          "data": {
            "text/html": [
              "<div>\n",
              "<style scoped>\n",
              "    .dataframe tbody tr th:only-of-type {\n",
              "        vertical-align: middle;\n",
              "    }\n",
              "\n",
              "    .dataframe tbody tr th {\n",
              "        vertical-align: top;\n",
              "    }\n",
              "\n",
              "    .dataframe thead th {\n",
              "        text-align: right;\n",
              "    }\n",
              "</style>\n",
              "<table border=\"1\" class=\"dataframe\">\n",
              "  <thead>\n",
              "    <tr style=\"text-align: right;\">\n",
              "      <th></th>\n",
              "      <th>ratings</th>\n",
              "      <th>reviews</th>\n",
              "      <th>label</th>\n",
              "    </tr>\n",
              "  </thead>\n",
              "  <tbody>\n",
              "    <tr>\n",
              "      <th>0</th>\n",
              "      <td>5</td>\n",
              "      <td>배공빠르고 굿</td>\n",
              "      <td>1</td>\n",
              "    </tr>\n",
              "    <tr>\n",
              "      <th>1</th>\n",
              "      <td>2</td>\n",
              "      <td>택배가 엉망이네용 저희집 밑에층에 말도없이 놔두고가고</td>\n",
              "      <td>0</td>\n",
              "    </tr>\n",
              "    <tr>\n",
              "      <th>2</th>\n",
              "      <td>5</td>\n",
              "      <td>아주좋아요 바지 정말 좋아서2개 더 구매했어요 이가격에 대박입니다. 바느질이 조금 ...</td>\n",
              "      <td>1</td>\n",
              "    </tr>\n",
              "    <tr>\n",
              "      <th>3</th>\n",
              "      <td>2</td>\n",
              "      <td>선물용으로 빨리 받아서 전달했어야 하는 상품이었는데 머그컵만 와서 당황했습니다. 전...</td>\n",
              "      <td>0</td>\n",
              "    </tr>\n",
              "    <tr>\n",
              "      <th>4</th>\n",
              "      <td>5</td>\n",
              "      <td>민트색상 예뻐요. 옆 손잡이는 거는 용도로도 사용되네요 ㅎㅎ</td>\n",
              "      <td>1</td>\n",
              "    </tr>\n",
              "  </tbody>\n",
              "</table>\n",
              "</div>"
            ],
            "text/plain": [
              "   ratings                                            reviews  label\n",
              "0        5                                            배공빠르고 굿      1\n",
              "1        2                      택배가 엉망이네용 저희집 밑에층에 말도없이 놔두고가고      0\n",
              "2        5  아주좋아요 바지 정말 좋아서2개 더 구매했어요 이가격에 대박입니다. 바느질이 조금 ...      1\n",
              "3        2  선물용으로 빨리 받아서 전달했어야 하는 상품이었는데 머그컵만 와서 당황했습니다. 전...      0\n",
              "4        5                  민트색상 예뻐요. 옆 손잡이는 거는 용도로도 사용되네요 ㅎㅎ      1"
            ]
          },
          "execution_count": 6,
          "metadata": {},
          "output_type": "execute_result"
        }
      ],
      "source": [
        "total_data['label'] = np.select([total_data.ratings > 3], [1], default=0)\n",
        "total_data[:5]"
      ]
    },
    {
      "cell_type": "code",
      "execution_count": 7,
      "metadata": {
        "id": "hndDXZFCpfXQ"
      },
      "outputs": [
        {
          "data": {
            "text/plain": [
              "(4, 199908, 2)"
            ]
          },
          "execution_count": 7,
          "metadata": {},
          "output_type": "execute_result"
        }
      ],
      "source": [
        "total_data['ratings'].nunique(), total_data['reviews'].nunique(), total_data['label'].nunique()"
      ]
    },
    {
      "cell_type": "code",
      "execution_count": 8,
      "metadata": {
        "id": "-J8fPJYDpiG5"
      },
      "outputs": [
        {
          "name": "stdout",
          "output_type": "stream",
          "text": [
            "총 샘플의 수 : 199908\n"
          ]
        }
      ],
      "source": [
        "total_data.drop_duplicates(subset=['reviews'], inplace=True) # reviews 열에서 중복인 내용이 있다면 중복 제거\n",
        "print('총 샘플의 수 :',len(total_data))"
      ]
    },
    {
      "cell_type": "code",
      "execution_count": 9,
      "metadata": {
        "id": "ZXFntLTRpkB2"
      },
      "outputs": [
        {
          "name": "stdout",
          "output_type": "stream",
          "text": [
            "False\n"
          ]
        }
      ],
      "source": [
        "print(total_data.isnull().values.any())"
      ]
    },
    {
      "cell_type": "code",
      "execution_count": 10,
      "metadata": {
        "id": "zwKy-JFUpn0p"
      },
      "outputs": [
        {
          "name": "stdout",
          "output_type": "stream",
          "text": [
            "훈련용 리뷰의 개수 : 149931\n",
            "테스트용 리뷰의 개수 : 49977\n"
          ]
        }
      ],
      "source": [
        "train_data, test_data = train_test_split(total_data, test_size = 0.25, random_state = 42)\n",
        "print('훈련용 리뷰의 개수 :', len(train_data))\n",
        "print('테스트용 리뷰의 개수 :', len(test_data))"
      ]
    },
    {
      "cell_type": "code",
      "execution_count": 11,
      "metadata": {
        "id": "_bwS6OPqpqZ0"
      },
      "outputs": [
        {
          "data": {
            "text/plain": [
              "<AxesSubplot:>"
            ]
          },
          "execution_count": 11,
          "metadata": {},
          "output_type": "execute_result"
        },
        {
          "data": {
            "image/png": "[encoded data removed]",
            "text/plain": [
              "<Figure size 432x288 with 1 Axes>"
            ]
          },
          "metadata": {
            "needs_background": "light"
          },
          "output_type": "display_data"
        }
      ],
      "source": [
        "train_data['label'].value_counts().plot(kind = 'bar')"
      ]
    },
    {
      "cell_type": "code",
      "execution_count": 12,
      "metadata": {
        "id": "P9sb8LhmptQA"
      },
      "outputs": [
        {
          "name": "stdout",
          "output_type": "stream",
          "text": [
            "   label  count\n",
            "0      0  74918\n",
            "1      1  75013\n"
          ]
        }
      ],
      "source": [
        "print(train_data.groupby('label').size().reset_index(name = 'count'))"
      ]
    },
    {
      "cell_type": "code",
      "execution_count": 13,
      "metadata": {
        "id": "QlEXOqLmpwYo"
      },
      "outputs": [
        {
          "name": "stdout",
          "output_type": "stream",
          "text": [
            "ratings    0\n",
            "reviews    0\n",
            "label      0\n",
            "dtype: int64\n"
          ]
        },
        {
          "name": "stderr",
          "output_type": "stream",
          "text": [
            "/home/slim/바탕화면/senticopy/venv/lib/python3.7/site-packages/ipykernel_launcher.py:2: FutureWarning: The default value of regex will change from True to False in a future version.\n",
            "  \n"
          ]
        }
      ],
      "source": [
        "# 한글과 공백을 제외하고 모두 제거\n",
        "train_data['reviews'] = train_data['reviews'].str.replace(\"[^ㄱ-ㅎㅏ-ㅣ가-힣 ]\",\"\")\n",
        "train_data['reviews'].replace('', np.nan, inplace=True)\n",
        "print(train_data.isnull().sum())"
      ]
    },
    {
      "cell_type": "code",
      "execution_count": 14,
      "metadata": {
        "id": "67XWepJzpy7w"
      },
      "outputs": [
        {
          "name": "stdout",
          "output_type": "stream",
          "text": [
            "전처리 후 테스트용 샘플의 개수 : 49977\n"
          ]
        },
        {
          "name": "stderr",
          "output_type": "stream",
          "text": [
            "/home/slim/바탕화면/senticopy/venv/lib/python3.7/site-packages/ipykernel_launcher.py:2: FutureWarning: The default value of regex will change from True to False in a future version.\n",
            "  \n"
          ]
        }
      ],
      "source": [
        "test_data.drop_duplicates(subset = ['reviews'], inplace=True) # 중복 제거\n",
        "test_data['reviews'] = test_data['reviews'].str.replace(\"[^ㄱ-ㅎㅏ-ㅣ가-힣 ]\",\"\") # 정규 표현식 수행\n",
        "test_data['reviews'].replace('', np.nan, inplace=True) # 공백은 Null 값으로 변경\n",
        "test_data = test_data.dropna(how='any') # Null 값 제거\n",
        "print('전처리 후 테스트용 샘플의 개수 :',len(test_data))"
      ]
    },
    {
      "cell_type": "code",
      "execution_count": 15,
      "metadata": {
        "id": "Ps6lhdESp1xT"
      },
      "outputs": [
        {
          "name": "stdout",
          "output_type": "stream",
          "text": [
            "['와', '이런', '것', '도', '상품', '이', '라고', '차라리', '내', '가', '만드', '는', '게', '나을', '뻔']\n"
          ]
        }
      ],
      "source": [
        "mecab = Mecab()\n",
        "print(mecab.morphs('와 이런 것도 상품이라고 차라리 내가 만드는 게 나을 뻔'))"
      ]
    },
    {
      "cell_type": "code",
      "execution_count": 16,
      "metadata": {
        "id": "hJj5rjO4p6E8"
      },
      "outputs": [],
      "source": [
        "stopwords = ['도', '는', '다', '의', '가', '이', '은', '한', '에', '하', '고', '을', '를', '인', '듯', '과', '와', '네', '들', '듯', '지', '임', '게']"
      ]
    },
    {
      "cell_type": "code",
      "execution_count": 17,
      "metadata": {
        "id": "F4YMS_y5p8Vo"
      },
      "outputs": [],
      "source": [
        "train_data['tokenized'] = train_data['reviews'].apply(mecab.morphs)\n",
        "train_data['tokenized'] = train_data['tokenized'].apply(lambda x: [item for item in x if item not in stopwords])"
      ]
    },
    {
      "cell_type": "code",
      "execution_count": 18,
      "metadata": {
        "id": "5kOxNpKFp-X-"
      },
      "outputs": [],
      "source": [
        "test_data['tokenized'] = test_data['reviews'].apply(mecab.morphs)\n",
        "test_data['tokenized'] = test_data['tokenized'].apply(lambda x: [item for item in x if item not in stopwords])"
      ]
    },
    {
      "cell_type": "code",
      "execution_count": 19,
      "metadata": {
        "id": "X2S4M2PSqBC3"
      },
      "outputs": [],
      "source": [
        "negative_words = np.hstack(train_data[train_data.label == 0]['tokenized'].values)\n",
        "positive_words = np.hstack(train_data[train_data.label == 1]['tokenized'].values)"
      ]
    },
    {
      "cell_type": "code",
      "execution_count": 20,
      "metadata": {
        "id": "6sidirQ8qEk0"
      },
      "outputs": [
        {
          "name": "stdout",
          "output_type": "stream",
          "text": [
            "[('네요', 31799), ('는데', 20295), ('안', 19718), ('어요', 14849), ('있', 13200), ('너무', 13058), ('했', 11783), ('좋', 9812), ('배송', 9677), ('같', 8997), ('구매', 8876), ('어', 8869), ('거', 8854), ('없', 8670), ('아요', 8642), ('습니다', 8436), ('그냥', 8355), ('되', 8345), ('잘', 8029), ('않', 7984)]\n"
          ]
        }
      ],
      "source": [
        "negative_word_count = Counter(negative_words)\n",
        "print(negative_word_count.most_common(20))"
      ]
    },
    {
      "cell_type": "code",
      "execution_count": 21,
      "metadata": {
        "id": "xP6FwDHhqIn4"
      },
      "outputs": [
        {
          "name": "stdout",
          "output_type": "stream",
          "text": [
            "[('좋', 39488), ('아요', 21184), ('네요', 19895), ('어요', 18686), ('잘', 18602), ('구매', 16171), ('습니다', 13320), ('있', 12391), ('배송', 12275), ('는데', 11670), ('했', 9818), ('합니다', 9801), ('먹', 9635), ('재', 9273), ('너무', 8397), ('같', 7868), ('만족', 7261), ('거', 6482), ('어', 6294), ('쓰', 6292)]\n"
          ]
        }
      ],
      "source": [
        "positive_word_count = Counter(positive_words)\n",
        "print(positive_word_count.most_common(20))"
      ]
    },
    {
      "cell_type": "code",
      "execution_count": 22,
      "metadata": {
        "id": "zGYlwqNnqLXD"
      },
      "outputs": [
        {
          "name": "stdout",
          "output_type": "stream",
          "text": [
            "긍정 리뷰의 평균 길이 : 13.587751456414221\n",
            "부정 리뷰의 평균 길이 : 17.029525614672043\n"
          ]
        },
        {
          "data": {
            "image/png": "[encoded data removed]",
            "text/plain": [
              "<Figure size 720x360 with 2 Axes>"
            ]
          },
          "metadata": {
            "needs_background": "light"
          },
          "output_type": "display_data"
        }
      ],
      "source": [
        "fig,(ax1,ax2) = plt.subplots(1,2,figsize=(10,5))\n",
        "text_len = train_data[train_data['label']==1]['tokenized'].map(lambda x: len(x))\n",
        "ax1.hist(text_len, color='red')\n",
        "ax1.set_title('Positive Reviews')\n",
        "ax1.set_xlabel('length of samples')\n",
        "ax1.set_ylabel('number of samples')\n",
        "print('긍정 리뷰의 평균 길이 :', np.mean(text_len))\n",
        "\n",
        "text_len = train_data[train_data['label']==0]['tokenized'].map(lambda x: len(x))\n",
        "ax2.hist(text_len, color='blue')\n",
        "ax2.set_title('Negative Reviews')\n",
        "fig.suptitle('Words in texts')\n",
        "ax2.set_xlabel('length of samples')\n",
        "ax2.set_ylabel('number of samples')\n",
        "print('부정 리뷰의 평균 길이 :', np.mean(text_len))\n",
        "plt.show()"
      ]
    },
    {
      "cell_type": "code",
      "execution_count": 23,
      "metadata": {
        "id": "5xjRZqn-qOb6"
      },
      "outputs": [],
      "source": [
        "X_train = train_data['tokenized'].values\n",
        "y_train = train_data['label'].values\n",
        "X_test= test_data['tokenized'].values\n",
        "y_test = test_data['label'].values"
      ]
    },
    {
      "cell_type": "code",
      "execution_count": 24,
      "metadata": {
        "id": "6vzPTPyrqQj2"
      },
      "outputs": [],
      "source": [
        "tokenizer = Tokenizer()\n",
        "tokenizer.fit_on_texts(X_train)"
      ]
    },
    {
      "cell_type": "code",
      "execution_count": 25,
      "metadata": {
        "id": "ADgxZv28qTdn"
      },
      "outputs": [
        {
          "name": "stdout",
          "output_type": "stream",
          "text": [
            "단어 집합(vocabulary)의 크기 : 39998\n",
            "등장 빈도가 1번 이하인 희귀 단어의 수: 18213\n",
            "단어 집합에서 희귀 단어의 비율: 45.53477673883694\n",
            "전체 등장 빈도에서 희귀 단어 등장 빈도 비율: 0.7935684918495074\n"
          ]
        }
      ],
      "source": [
        "threshold = 2\n",
        "total_cnt = len(tokenizer.word_index) # 단어의 수\n",
        "rare_cnt = 0 # 등장 빈도수가 threshold보다 작은 단어의 개수를 카운트\n",
        "total_freq = 0 # 훈련 데이터의 전체 단어 빈도수 총 합\n",
        "rare_freq = 0 # 등장 빈도수가 threshold보다 작은 단어의 등장 빈도수의 총 합\n",
        "\n",
        "# 단어와 빈도수의 쌍(pair)을 key와 value로 받는다.\n",
        "for key, value in tokenizer.word_counts.items():\n",
        "    total_freq = total_freq + value\n",
        "\n",
        "    # 단어의 등장 빈도수가 threshold보다 작으면\n",
        "    if(value < threshold):\n",
        "        rare_cnt = rare_cnt + 1\n",
        "        rare_freq = rare_freq + value\n",
        "\n",
        "print('단어 집합(vocabulary)의 크기 :',total_cnt)\n",
        "print('등장 빈도가 %s번 이하인 희귀 단어의 수: %s'%(threshold - 1, rare_cnt))\n",
        "print(\"단어 집합에서 희귀 단어의 비율:\", (rare_cnt / total_cnt)*100)\n",
        "print(\"전체 등장 빈도에서 희귀 단어 등장 빈도 비율:\", (rare_freq / total_freq)*100)"
      ]
    },
    {
      "cell_type": "code",
      "execution_count": 26,
      "metadata": {
        "id": "W94Xr2qAqWzh"
      },
      "outputs": [
        {
          "name": "stdout",
          "output_type": "stream",
          "text": [
            "단어 집합의 크기 : 21787\n"
          ]
        }
      ],
      "source": [
        "vocab_size = total_cnt - rare_cnt + 2\n",
        "print('단어 집합의 크기 :',vocab_size)"
      ]
    },
    {
      "cell_type": "code",
      "execution_count": 27,
      "metadata": {
        "id": "yr6Bmah2qZGP"
      },
      "outputs": [],
      "source": [
        "tokenizer = Tokenizer(vocab_size, oov_token = 'OOV') \n",
        "tokenizer.fit_on_texts(X_train)\n",
        "X_train = tokenizer.texts_to_sequences(X_train)\n",
        "X_test = tokenizer.texts_to_sequences(X_test)"
      ]
    },
    {
      "cell_type": "code",
      "execution_count": 28,
      "metadata": {
        "id": "I_VPrth4qbiY"
      },
      "outputs": [
        {
          "name": "stdout",
          "output_type": "stream",
          "text": [
            "[[67, 2060, 299, 14259, 263, 73, 6, 236, 168, 137, 805, 2951, 625, 2, 77, 62, 207, 40, 1343, 155, 3, 6], [482, 409, 52, 8530, 2561, 2517, 339, 2918, 250, 2357, 38, 473, 2], [46, 24, 825, 105, 35, 2372, 160, 7, 10, 8061, 4, 1319, 29, 140, 322, 41, 59, 160, 140, 7, 1916, 2, 113, 162, 1379, 323, 119, 136]]\n"
          ]
        }
      ],
      "source": [
        "print(X_train[:3])"
      ]
    },
    {
      "cell_type": "code",
      "execution_count": 29,
      "metadata": {
        "id": "pItjeyJvqd8u"
      },
      "outputs": [
        {
          "name": "stdout",
          "output_type": "stream",
          "text": [
            "[[14, 704, 767, 116, 186, 252, 12], [339, 3904, 62, 3816, 1651], [11, 69, 2, 49, 164, 3, 27, 15, 6, 513, 289, 17, 92, 110, 564, 59, 7, 2]]\n"
          ]
        }
      ],
      "source": [
        "print(X_test[:3])"
      ]
    },
    {
      "cell_type": "code",
      "execution_count": 30,
      "metadata": {
        "id": "DzmzNbtYqjFx"
      },
      "outputs": [
        {
          "name": "stdout",
          "output_type": "stream",
          "text": [
            "리뷰의 최대 길이 : 85\n",
            "리뷰의 평균 길이 : 15.30754813881052\n"
          ]
        },
        {
          "data": {
            "image/png": "[encoded data removed]",
            "text/plain": [
              "<Figure size 432x288 with 1 Axes>"
            ]
          },
          "metadata": {
            "needs_background": "light"
          },
          "output_type": "display_data"
        }
      ],
      "source": [
        "print('리뷰의 최대 길이 :',max(len(review) for review in X_train))\n",
        "print('리뷰의 평균 길이 :',sum(map(len, X_train))/len(X_train))\n",
        "plt.hist([len(review) for review in X_train], bins=50)\n",
        "plt.xlabel('length of samples')\n",
        "plt.ylabel('number of samples')\n",
        "plt.show()"
      ]
    },
    {
      "cell_type": "code",
      "execution_count": 31,
      "metadata": {
        "id": "bJh0qaUeqk7T"
      },
      "outputs": [],
      "source": [
        "def below_threshold_len(max_len, nested_list):\n",
        "  count = 0\n",
        "  for sentence in nested_list:\n",
        "    if(len(sentence) <= max_len):\n",
        "        count = count + 1\n",
        "  print('전체 샘플 중 길이가 %s 이하인 샘플의 비율: %s'%(max_len, (count / len(nested_list))*100))"
      ]
    },
    {
      "cell_type": "code",
      "execution_count": 32,
      "metadata": {
        "id": "hZkz0LQaqoKe"
      },
      "outputs": [
        {
          "name": "stdout",
          "output_type": "stream",
          "text": [
            "전체 샘플 중 길이가 80 이하인 샘플의 비율: 99.99933302652553\n"
          ]
        }
      ],
      "source": [
        "max_len = 80\n",
        "below_threshold_len(max_len, X_train)"
      ]
    },
    {
      "cell_type": "code",
      "execution_count": 33,
      "metadata": {
        "id": "7nc33nuMq6Qo"
      },
      "outputs": [],
      "source": [
        "X_train = pad_sequences(X_train, maxlen=max_len)\n",
        "X_test = pad_sequences(X_test, maxlen=max_len)"
      ]
    },
    {
      "cell_type": "code",
      "execution_count": 34,
      "metadata": {
        "id": "5CJdU57Tq9ZG"
      },
      "outputs": [
        {
          "name": "stderr",
          "output_type": "stream",
          "text": [
            "2022-07-03 12:24:21.673219: I tensorflow/stream_executor/cuda/cuda_gpu_executor.cc:975] successful NUMA node read from SysFS had negative value (-1), but there must be at least one NUMA node, so returning NUMA node zero\n",
            "2022-07-03 12:24:21.694277: I tensorflow/stream_executor/cuda/cuda_gpu_executor.cc:975] successful NUMA node read from SysFS had negative value (-1), but there must be at least one NUMA node, so returning NUMA node zero\n",
            "2022-07-03 12:24:21.694436: I tensorflow/stream_executor/cuda/cuda_gpu_executor.cc:975] successful NUMA node read from SysFS had negative value (-1), but there must be at least one NUMA node, so returning NUMA node zero\n",
            "2022-07-03 12:24:21.695217: I tensorflow/core/platform/cpu_feature_guard.cc:193] This TensorFlow binary is optimized with oneAPI Deep Neural Network Library (oneDNN) to use the following CPU instructions in performance-critical operations:  AVX2 FMA\n",
            "To enable them in other operations, rebuild TensorFlow with the appropriate compiler flags.\n",
            "2022-07-03 12:24:21.696182: I tensorflow/stream_executor/cuda/cuda_gpu_executor.cc:975] successful NUMA node read from SysFS had negative value (-1), but there must be at least one NUMA node, so returning NUMA node zero\n",
            "2022-07-03 12:24:21.696309: I tensorflow/stream_executor/cuda/cuda_gpu_executor.cc:975] successful NUMA node read from SysFS had negative value (-1), but there must be at least one NUMA node, so returning NUMA node zero\n",
            "2022-07-03 12:24:21.696399: I tensorflow/stream_executor/cuda/cuda_gpu_executor.cc:975] successful NUMA node read from SysFS had negative value (-1), but there must be at least one NUMA node, so returning NUMA node zero\n",
            "2022-07-03 12:24:22.030926: I tensorflow/stream_executor/cuda/cuda_gpu_executor.cc:975] successful NUMA node read from SysFS had negative value (-1), but there must be at least one NUMA node, so returning NUMA node zero\n",
            "2022-07-03 12:24:22.031104: I tensorflow/stream_executor/cuda/cuda_gpu_executor.cc:975] successful NUMA node read from SysFS had negative value (-1), but there must be at least one NUMA node, so returning NUMA node zero\n",
            "2022-07-03 12:24:22.031197: I tensorflow/stream_executor/cuda/cuda_gpu_executor.cc:975] successful NUMA node read from SysFS had negative value (-1), but there must be at least one NUMA node, so returning NUMA node zero\n",
            "2022-07-03 12:24:22.031275: I tensorflow/core/common_runtime/gpu/gpu_device.cc:1532] Created device /job:localhost/replica:0/task:0/device:GPU:0 with 7897 MB memory:  -> device: 0, name: NVIDIA GeForce RTX 3080, pci bus id: 0000:01:00.0, compute capability: 8.6\n"
          ]
        },
        {
          "name": "stdout",
          "output_type": "stream",
          "text": [
            "Epoch 1/15\n"
          ]
        },
        {
          "name": "stderr",
          "output_type": "stream",
          "text": [
            "2022-07-03 12:24:26.138262: I tensorflow/stream_executor/cuda/cuda_dnn.cc:384] Loaded cuDNN version 8302\n",
            "2022-07-03 12:24:27.193594: I tensorflow/stream_executor/cuda/cuda_blas.cc:1786] TensorFloat-32 will be used for the matrix multiplication. This will only be logged once.\n"
          ]
        },
        {
          "name": "stdout",
          "output_type": "stream",
          "text": [
            "1875/1875 [==============================] - ETA: 0s - loss: 0.2911 - acc: 0.8836\n",
            "Epoch 1: val_acc improved from -inf to 0.91153, saving model to best_model.h5\n",
            "1875/1875 [==============================] - 17s 6ms/step - loss: 0.2911 - acc: 0.8836 - val_loss: 0.2427 - val_acc: 0.9115\n",
            "Epoch 2/15\n",
            "1873/1875 [============================>.] - ETA: 0s - loss: 0.2316 - acc: 0.9161\n",
            "Epoch 2: val_acc improved from 0.91153 to 0.92173, saving model to best_model.h5\n",
            "1875/1875 [==============================] - 11s 6ms/step - loss: 0.2316 - acc: 0.9161 - val_loss: 0.2246 - val_acc: 0.9217\n",
            "Epoch 3/15\n",
            "1867/1875 [============================>.] - ETA: 0s - loss: 0.2175 - acc: 0.9222\n",
            "Epoch 3: val_acc improved from 0.92173 to 0.92317, saving model to best_model.h5\n",
            "1875/1875 [==============================] - 11s 6ms/step - loss: 0.2174 - acc: 0.9223 - val_loss: 0.2176 - val_acc: 0.9232\n",
            "Epoch 4/15\n",
            "1873/1875 [============================>.] - ETA: 0s - loss: 0.2103 - acc: 0.9252\n",
            "Epoch 4: val_acc did not improve from 0.92317\n",
            "1875/1875 [==============================] - 11s 6ms/step - loss: 0.2104 - acc: 0.9252 - val_loss: 0.2192 - val_acc: 0.9212\n",
            "Epoch 5/15\n",
            "1870/1875 [============================>.] - ETA: 0s - loss: 0.2051 - acc: 0.9279\n",
            "Epoch 5: val_acc improved from 0.92317 to 0.92343, saving model to best_model.h5\n",
            "1875/1875 [==============================] - 11s 6ms/step - loss: 0.2052 - acc: 0.9279 - val_loss: 0.2129 - val_acc: 0.9234\n",
            "Epoch 6/15\n",
            "1874/1875 [============================>.] - ETA: 0s - loss: 0.2002 - acc: 0.9298\n",
            "Epoch 6: val_acc improved from 0.92343 to 0.92380, saving model to best_model.h5\n",
            "1875/1875 [==============================] - 11s 6ms/step - loss: 0.2002 - acc: 0.9298 - val_loss: 0.2192 - val_acc: 0.9238\n",
            "Epoch 7/15\n",
            "1871/1875 [============================>.] - ETA: 0s - loss: 0.1978 - acc: 0.9310\n",
            "Epoch 7: val_acc improved from 0.92380 to 0.92480, saving model to best_model.h5\n",
            "1875/1875 [==============================] - 11s 6ms/step - loss: 0.1977 - acc: 0.9310 - val_loss: 0.2207 - val_acc: 0.9248\n",
            "Epoch 8/15\n",
            "1866/1875 [============================>.] - ETA: 0s - loss: 0.1944 - acc: 0.9326\n",
            "Epoch 8: val_acc improved from 0.92480 to 0.92573, saving model to best_model.h5\n",
            "1875/1875 [==============================] - 11s 6ms/step - loss: 0.1944 - acc: 0.9326 - val_loss: 0.2158 - val_acc: 0.9257\n",
            "Epoch 9/15\n",
            "1871/1875 [============================>.] - ETA: 0s - loss: 0.1915 - acc: 0.9338\n",
            "Epoch 9: val_acc did not improve from 0.92573\n",
            "1875/1875 [==============================] - 11s 6ms/step - loss: 0.1915 - acc: 0.9338 - val_loss: 0.2162 - val_acc: 0.9245\n",
            "Epoch 9: early stopping\n"
          ]
        }
      ],
      "source": [
        "from tensorflow.keras.layers import Embedding, Dense, Dropout, Activation, LSTM, Conv1D, MaxPooling1D\n",
        "from tensorflow.keras.models import Sequential\n",
        "from tensorflow.keras.models import load_model\n",
        "from tensorflow.keras.datasets import imdb\n",
        "from tensorflow.keras.preprocessing import sequence\n",
        "from tensorflow.keras.callbacks import EarlyStopping, ModelCheckpoint\n",
        "\n",
        "embedding_dim = 100\n",
        "hidden_units = 50\n",
        "\n",
        "model = Sequential()\n",
        "model.add(Embedding(vocab_size, embedding_dim))\n",
        "model.add(Dropout(0.5))\n",
        "model.add(Conv1D(64, 5, padding='valid', activation='relu', strides=1))\n",
        "model.add(MaxPooling1D(pool_size=4))\n",
        "# model.add(LSTM(250,return_sequences=True))\n",
        "# model.add(LSTM(250,return_sequences=True))\n",
        "# model.add(LSTM(250,return_sequences=True))\n",
        "# model.add(LSTM(250,return_sequences=True))\n",
        "model.add(LSTM(250,return_sequences=True))\n",
        "model.add(LSTM(250,return_sequences=True))\n",
        "model.add(LSTM(250))\n",
        "model.add(Dense(1))\n",
        "model.add(Activation('sigmoid'))\n",
        "\n",
        "es = EarlyStopping(monitor='val_loss', mode='min', verbose=1, patience=4)\n",
        "mc = ModelCheckpoint('best_model.h5', monitor='val_acc', mode='max', verbose=1, save_best_only=True)\n",
        "\n",
        "model.compile(optimizer='rmsprop', loss='binary_crossentropy', metrics=['acc'])\n",
        "history = model.fit(X_train, y_train, epochs=15, callbacks=[es, mc], batch_size=64, validation_split=0.2)"
      ]
    },
    {
      "cell_type": "code",
      "execution_count": 35,
      "metadata": {
        "id": "vl1qQ5D2YKlU"
      },
      "outputs": [
        {
          "name": "stdout",
          "output_type": "stream",
          "text": [
            "1562/1562 [==============================] - 4s 2ms/step - loss: 0.2224 - acc: 0.9236\n",
            "\n",
            " 테스트 정확도: 0.9236\n"
          ]
        }
      ],
      "source": [
        "loaded_model = load_model('best_model.h5')\n",
        "print(\"\\n 테스트 정확도: %.4f\" % (loaded_model.evaluate(X_test, y_test)[1]))"
      ]
    },
    {
      "cell_type": "code",
      "execution_count": 36,
      "metadata": {
        "id": "ncLkHsp0pe-L"
      },
      "outputs": [],
      "source": [
        "def sentiment_predict(new_sentence):\n",
        "  new_sentence = re.sub(r'[^ㄱ-ㅎㅏ-ㅣ가-힣 ]','', new_sentence)\n",
        "  new_sentence = mecab.morphs(new_sentence)\n",
        "  new_sentence = [word for word in new_sentence if not word in stopwords]\n",
        "  encoded = tokenizer.texts_to_sequences([new_sentence])\n",
        "  pad_new = pad_sequences(encoded, maxlen = max_len)\n",
        "\n",
        "  score = float(loaded_model.predict(pad_new))\n",
        "  if(score > 0.5):\n",
        "    print(\"{:.2f}% 확률로 긍정 리뷰입니다.\".format(score * 100))\n",
        "  else:\n",
        "    print(\"{:.2f}% 확률로 부정 리뷰입니다.\".format((1 - score) * 100))"
      ]
    },
    {
      "cell_type": "code",
      "execution_count": 52,
      "metadata": {
        "id": "SRRG-Yo-pf15"
      },
      "outputs": [
        {
          "name": "stdout",
          "output_type": "stream",
          "text": [
            "1/1 [==============================] - 0s 12ms/step\n"
          ]
        },
        {
          "data": {
            "text/plain": [
              "7.34255388379097"
            ]
          },
          "execution_count": 52,
          "metadata": {},
          "output_type": "execute_result"
        }
      ],
      "source": [
        "sentiment_predict(\"애기랑 사이좋게 하려고 두개 샀어요 😁방울이 엄청 많이 나와요!!!액도 좋은건지 쿠x에서 산 비눗방울 액은방울이 아예 안만들아졌었는데 ! 😡아오이건 속 시원히 아주 빵빵 많이 나오네요!!!! 👍거기다 불 때 애가 실수로 들이켜도! !이거랑 비슷하게 생긴거 과거에 샀었는데그건 애가 실수로 마시면 입안 가득 거품이였는데😰요건 그런거 1도 없어서 !!그리고 라이브 때 엄청난 행운 주셔서 감사해여❤️‍🔥넘 ㅎㅎ알라뷰 아가드👍❤️‍🔥\")"
      ]
    },
    {
      "cell_type": "code",
      "execution_count": 38,
      "metadata": {
        "id": "fAch6-NLUOmi"
      },
      "outputs": [],
      "source": [
        "def sentiment_predict(new_sentence):\n",
        "  new_sentence = re.sub(r'[^ㄱ-ㅎㅏ-ㅣ가-힣 ]','', new_sentence)\n",
        "  new_sentence = mecab.morphs(new_sentence)\n",
        "  new_sentence = [word for word in new_sentence if not word in stopwords]\n",
        "  encoded = tokenizer.texts_to_sequences([new_sentence])\n",
        "  pad_new = pad_sequences(encoded, maxlen = max_len)\n",
        "\n",
        "  score = float(loaded_model.predict(pad_new))\n",
        "  if(score > 0.5):\n",
        "  \n",
        "    return score * 100\n",
        "  else:\n",
        "  \n",
        "    return score * 100"
      ]
    },
    {
      "cell_type": "code",
      "execution_count": 39,
      "metadata": {
        "id": "oE2Cp0c7VjAM"
      },
      "outputs": [
        {
          "name": "stdout",
          "output_type": "stream",
          "text": [
            "['애기랑 사이좋게 하려고 두개 샀어요 😁방울이 엄청 많이 나와요!!!액도 좋은건지 쿠x에서 산 비눗방울 액은방울이 아예 안만들아졌었는데 ! 😡아오이건 속 시원히 아주 빵빵 많이 나오네요!!!! 👍거기다 불 때 애가 실수로 들이켜도! !이거랑 비슷하게 생긴거 과거에 샀었는데그건 애가 실수로 마시면 입안 가득 거품이였는데😰요건 그런거 1도 없어서 !!그리고 라이브 때 엄청난 행운 주셔서 감사해여❤️\\u200d🔥넘 ㅎㅎ알라뷰 아가드👍❤️\\u200d🔥\\n', '\"아가 기념일 사진 셀프촬영할때마다 분위기용+포토용으로 구매했는데, 사진 촬영하면서도 예쁜 분위기 샤샤샥➰ 연출하면서 찍을 수 있어요😚\\U0001f90d✨ 아가드 비눗방울 덕분에 홈스튜디오 촬영 매번 대성공👼🏻\\U0001f90d💛✨✨ 촬영용 제외하고도 놀이용 또한 말모〰️ 우리 사랑둥이 아가가 아가드 비눗방울 놀이 너무 좋아해용👼🏻 선물용으로 하나 더 구매했었는데, 추가 구매 또한 계속 계속 하고 싶을 정도로 소장가치 충분해용👏🏻👏🏻💛\\U0001f90d✨✨\"\\n', '요즘 날이 좋아서 외출하면 아기한테 비누방울 불어주고 싶어 구매했어요. 역류방지 기능이 있어 아기가 직접 불면서 놀면 더 좋겠지만 아직 어려서 엄마가 아날로그ㅎㅎ 어린시절 추억 떠올리며 마구마구 불어줬습니다ㅎㅎ 아기자기 작은 비눗방울이 엄청 풍성하게 나와서 사진 찍기 좋고👍 쉽게 터지지 않아서 더 좋은 것 같아요! 화창한 날 아가드 비눗방울로 행복한 시간 보냈어요💓\\n', '\"살짝만 불어줘도 비눗방울 엄청엄청 많이 나와요 거의 쏟아져나오는 수준.ᐟ.ᐟ.ᐟ역류방지설계되어있어서 비눗물 마신적 없었고, 소재도 안전하고 진짜 잘 샀어요요고 하나면 외출 인생샷 무조건 건져요👍👍👍목욕시간에 비눗방울 불어줘도 대박 좋아해요💙진짜 찐찐 만족템 남편도 맘에든다고 해죠써요👀❤️\"\\n', '비눗방울놀이 너무 재밌어요.....저랑 남편이 더 좋아하는 비눗방울놀이〰️✨\\U0001f90d여러분 사세요 비눗방울나팔 최고예요...🙌🏻리필용액은 꼭 만들어주세요...\\U0001f90d 퐁퐁으로 만든 퀄리티랑 차원이 달라요...ㅋㅋㅋ오랫만에 남편이랑 재밌게 놀았어ㅇ...ㅋㅋㅋ아가드 사랑해요💛\\n', '곧 15개월 아기고 역류방지기능 덕분에 아기가 직접 불어볼 수 있는 부분때문에 바로 구매했어요 내일 놀러가서 사용할건데 짜잔 하고 보여줄 생각하니 벌써 기분 좋네용^^\\n', '내구성이깔끔하고좋아용비눗방울 액을 따로 더사고싶을땐어떻ㄱ하면되나요?그리고 잘안터진다고해서 샀는데비슷한거같아서 별하나뺏어요 ㅠㅠ\\n', '아기가 걸음마를 제법 하게되니 밖에서 비누방울 놀이하면 좋을거같아 구입했어요.아직 불어본진 않았지만 세트가 좋아보여요ㅎㅎ\\n', '라이브 방송때 저렴하게 잘 구매했어요ㅎ 아기가 비눗방울 보는거 좋아해서 날씨 풀리면 갖구나가서 놀아줄려구여~\\n', '빠른배송에 귀여운 패키지 좋아요비눗방울 구멍도 많고 다만 거치대도 좀 들고 다녀야 하는게 약간 번거롭긴해요\\n', '귀여워요 좋아용 오자마자 놀이터 가서 해줬는데울애기는 아직 8갤차 아기라 관심없고다른 큰 아가들이랑 놀아주다 왔어요ㅋㅋㅋ\\n', '아기랑 외출하면 해주려고 라방때 저렴하게 구매했어요!비눗방울도 많이나오고 오래가서 사진찍기 좋아요\\n', '역류방지가 되어 있어서 구입했습니다. 침이 닫는 부분이라 일반 플라스틱은 염려스러웠는데 옥수수 원료라니 믿을만 합니다\\n', '아직 사용안해봤지만 아가가 좋아했음 좋겠어요근데 액은 어케 바르는거지?ㅎ좀 살펴봐야겠네요ㅋ\\n', '어린이날 사용하려고 미리 구매 했어요~^^따로 구매하지 않고 비눗방울 세트로 구성되어서 좋아요~^^벌써부터 신나네요^^\\n', '사진찍을때 만족스럽게 썼어요~비눗방울이 작게 나와서 조금 아쉬운거 빼고는좋이요👍\\n', '비눗방울이 잘 안터지고 양이 엄청나요!ㅋㅋ아기가 너무 좋아해서 잘산것같습니다!!\\n', '예전에 자동 비눗방울을 산 적있는데 잘 안되더라구요 근데 이거는 정말 잘돼요! 일단 가볍고 비눗방울이 많이 나와요 아기가 불어도 잘 될 거 같아요 ^^\\n', '애기반응은 그저그래요저랑 남편만좋아하네욬ㅋㅋ작은방울이많이나오네요\\n', '실리콘소재면 더 좋았을것 같아요 조금 이염이 있지만 비눗방울은 잘되네요\\n', '오자마자 가지고 나가서 불어주니아이가 너무 좋아하네요. 비눗방울 크기가 작아서 아이가 손으로 터트리면서 잘 놀았어요.\\n', '날씨가 좋아 아가랑 밖에서 즐겁게 사용하고 왔어요! 잘 안터져서 굿?!!!!!\\n', '다 하고 난 후 관리가 좀 어렵지만아기가 좋아해요~방울도 많이 나오네용\\n', '간편하게 많은 양의 비누방울도 만들고 즐겁게 놀 수 있는 물건입니다.\\n', '36개월이상이라고 해서 아직 못사용하고 있어요 제품은 좋아보입니다\\n', '아직 해보진 못했지만 기대중이에요!ㅋㅋ애기가 좋아했음 좋겠네요ㅋ\\n', '놀라가서 해주려고 구매했어요! 알고있던 비누방울이라 만족입니다 ~\\n', '아이 선물 줬는데 엄청 좋아해요 선물 포장까지 예쁘게 했어요 네모난 상자에 담아주셔서 좋았네요 크기는 물티슈만 해요\\n', '진짜 별루에요’ㅠㅠ 뒤로 넘어오고 조카가 사용못했습니다 ㅠ\\n', '비누방울이 한번에 수십개~~정도많이 나와요ㅎ 아이도 좋아해요!!\\n', '견고하고 안전해보여요. 얼른 아가랑 밖에나가 불어보고 싶네요.\\n', '아기가 우선 좋아하고 사진 찍을 때도 너무 잘 나와서 좋았어요~\\n', '조그마한 비눗방울들이 안터지고 촤라락 날리는게 너무 예뻐요\\n', '날씨 따뜻해지면 아기랑 밖에 산책할때 해보려고 구매했어요\\n', '귀여워요 ㅎㅎ 아기는아직 불지 못해 엄마인 제가 즐겁넹요\\n', '아무래도 입으로 불어야하니 풍성하게 나오진 않아요..ㅠㅠ\\n', '작아서 휴대하기도 쉽고 무엇보다 아기가 넘 좋아해요~~!!\\n', '아직 사옹은 안햇지만 아기가 퍙소애 비눗방울 좋아해요\\n', '빨리왔어요~본체는 한국인데 액상은 중국제품이네요 ㅠ\\n', '산책할때 놀아주려고 구매해요 역류가 안된다니 좋네요\\n', '제주도 여행가서 스냅샷 찍을때 사용하려고 구매했어용\\n', '아직 사용전인데 나들이 갈때 불어주려고 구매했어요~\\n', '방울이 많이 나와서 좋네요 아기가 아직 어려서 목욕시킬때 놀아주고 있어요 좋아하네요\\n', '아직은 어려서 잘 못해요어른들이 불어주고 있어요\\n', '아직 사용전이에요~~ 아이가 좋아했으면 좋겠네요^^\\n', '배송도 빠르고거품도잘나요아기가 엄청좋아해요\\n', '세상에 배송도 빠르고 안전하게 너무잘왔어요!애기랑 놀기에도 너무좋은거같아요! 주말에 해줘야겠어요 갓언니 이런 혜택 너무 좋아요 :3\\n', '아직 아기가 불지는 못 하지만 너무 좋아해요^^\\n', '조동이 쓰는거 보고 갠찮은거 같아 구매햇어요\\n', '오 엄청 잘 불려요!! 콕콕 찍어서 후~하면 비누방울이 많이 나와요! 잘 터지지도 않는 것 같구요 ㅎㅎ 아직 아가가 7개월이라 제가 열심히 불고 있어요 애엄마가 만족하는 템?ㅎㅎㅎ\\n', '아직 안써봤눈데 아기가 좋아했음 좋겠네요\\n', '아직사용은못해봄 나들이나갈때써보려구요\\n', '만족합니다! 목걸이로 나왓음 더 좋겟어요\\n', '아..음..비눗방울이 잘 안나오네요....ㅜㅜ\\n', '방울도 잘 날라가고 아이가 재밌어 해요\\n', '아기가 너무 좋아할 것 같아 기대돼요❤\\n', '이번에 캠핑가면 써보려고 구매했어요:)\\n', '방울도 오래가고 아기가 너무 좋아해요\\n', '너무 자잘하게 나와서 좀 아쉬워요ㅠㅠ\\n', '아직 사용 안해봤지만 마음에 들어요~~\\n', '세워서해야되서 ..좀불편한감이있어요\\n', '귀엽고 얼릉 날 좋은날 해주고 시퍼요\\n', '가볍고 애기들 가지고 놀기 딱이에용\\n', '목욕할 때 해줬는데 너무 좋아하네용\\n', '너무좋아하네요목욕시간이 재밋어요\\n', '아직 사용은 안해밨지만 좋길바라며\\n', '거품이진짜잘나네용아기가좋아해용\\n', '아직 사용전이지만 귀엽고 좋아요 :)\\n', '잘불어지고 좋아요배송도 빨랐어요\\n', '아이가 조아해요. 잘 가지고 놉니다\\n', '아기가 잼있어서합니다 잘샀어요\\n', '아직안해봤지만 좋아할거같아요\\n', '아이가 잘 불지는 못하네요 ㅠㅠ\\n', '제주도가서 너무 잘 사용했어요\\n', '친정에 갖다놓고 잘쓰고있어요~\\n', '아직사용전이지만좋을거같아요\\n', '잘 불리고 엄청 많이 나와요 ㅋ\\n', '비눗방울 마니나와서 좋아요 !!\\n', '비눗방울 좋아해서 구매했어요\\n', '나쁘지않아요 아기는 좋아해요\\n', '비눗방울이 많이나와서 좋아요\\n', '아직 사용전이지만 기대되요!\\n', '아이가좋아해요봄에역시꿀템\\n', '귀여워요 애기가 좋아했어요\\n', '너무 조아요ㅎㅎ맘에들어요\\n', '아기가 너무 좋아해요 ㅎㅎ\\n', '아이들이 많이 좋아했어요~\\n', '아가드라 믿고 주문했어요\\n', '거품이 풍성하고 오래가요\\n', '비눗방울이 적은 호흡으로 아주 풍성하게 잘불려요 ㅎㅎ 만족만족 굿굿\\n', '아기가 정말 재밌어해요!\\n', '4월에 놀러가서 쓰려고 구매했어요아이가 좋아해줬으면 좋겠어요!!배송 너무 빨라서 좋아요\\n', '아이가 엄청 좋아하네요\\n', '비눗방울 좋아하네요ㅎ\\n', '비눗방울 많이 나와요!\\n', '아이가 너무 좋아해용\\n', '아기가 좋아합니다 굿\\n', '아기가 좋아해요 ㅎㅎ\\n', '배송도 빠르고 아직 사용하기 전이지만 깨진 부분없이 잘 왔습니다. 빨리 아기 데리고 나가서 사용해보고싶네요~ 모양도 너무 이뻐요ㅋㅋ\\n', '날 좋아서 밖에서 아이 놀아줄때 해주려고 샀어요!! 방울이 많이 나와서 아이가 더 좋아하네요 :)\\n', '\"비눗방울이 잘 만들어져요ㅎㅎ아기는 아직 비눗방울 못 불어서,엄마아빠가 실컷 잘 가지고 놀았어요 ><\"\\n', '아이가 좋아해요..\\n', '문센에서 너무좋아하길래 구매했네요집에서도 해주려구요!!\\n', '그냥그래요..;;;\\n', '방울이 부드럽게 많이 나와서 좋아요! ! 아이가 좋아해서 목욕시간마다 비눗방울놀이하고 놀이도해요!\\n', '배송 빨라요특가로 구매했어요 아기가 좋아했음 좋겠어요\\n', '생각보다 아이가 사용하기에 불편하네요...ㅠㅠ 다른 제품을 놓고 사용중이에요..ㅠㅠ액이 들어가는 공간이 너무 낮아서 금방 쏟아지고요....\\n', '비눗물을 묻혀야하지만 비눗방울이 많이 나와서 좋아요\\n', '비누방울이 너무 자잘하게 나온다는점거품이 생기면 방울이 잘 안불어진다는점.그것빼면 그냥저냥 쓸만해요.\\n', '\"아기가 비눗방울을 좋아해서 구매했는데, 너무 좋아해서 여전히 외출할때 잘 사용하고 있어요! 갬성 사진 찍을때도 너무 좋아요.\"\\n', '너무 잘 쓰고 있어요 배송도 빠르고 아이도 너무 조아하네용 ㅋㅋㅋ 그래서 추가 주문 하려고 합니다비눗방울도 잘 안터지고 멀리멀리 날아가서 좋아요\\n', '8갤 울 애기는 관심없고.. ㅠㅠ놀이터에서 다른 큰 아가들 놀아주고 왔네요 ㅋㅋ\\n', '비누방울이 너무 자잘자잘해서 아쉬웠어요\\n', '감사합니다:) 잘쓸께요 또 구매할께요! 좋아요\\n', '좋아요애들이 엄청좋아해용ㅋㅋ\\n', '방울 잘나요 ㅋㅋ 리필용액 안파나여 왜 ㅠㅠ\\n', '아기가 좋아하는 비눗방울비눗방울이 정말 많이 나오네요아가가 비눗방울이 처음이라 어리둥절 하다가 나중엔 비눗방울 잡으려고 신나게 달렸어요\\n', '아이가 너무 좋아해요 ㅎㅎ감사합니다\\n', '애기보다 어른이 더 좋아해요 ㅋㅋㅋ\\n', '아기가 좋아해요 :) 감사해요\\U0001f90d\\n', '기대 엄청 하고 구매했는데 역류하고 방울도 별로네요……조카한테 선물해줬는데 실망입니다\\n', '잘받았습니다 감사합니다\\n', '아가팡인가요? 배송이 어쩜 이리도빠른지 ㅎㅎ주말에 나들이갈때 사진찍을때 해봐야겠어요ㅎㅎ아기가 아직 너무어려서 혼자서는 못하지만 정말 좋아할걱같아용ㅎㅎㅎ감사합니다\\n', '버블버블잘나와요ㅋㅋ\\n', '좋아용 아기도 너무 좋아해요\\n', '매번사용중인 제품 굿굿굿\\n', '좋아요. 아이가좋아해요\\n', '아기가 좋아해여 ㅎㅎㅎ\\n', '배송진짜파늡니다ㅋㅋㅋ\\n', '역류해요..ㅠㅠ 아기가 혼자 하고싶대서 줬는데 역류해요ㅜㅜ\\n', '조아요조아요조아요조아요\\n']\n"
          ]
        }
      ],
      "source": [
        "import codecs\n",
        "with codecs.open('finalsenti1.txt', 'r', encoding='utf-8', errors='ignore') as f:\n",
        "    content = f.readlines()\n",
        "\n",
        "# content = [line.rstrip('\\n') for line in content]\n",
        "    \n",
        "print(content)"
      ]
    },
    {
      "cell_type": "code",
      "execution_count": 43,
      "metadata": {},
      "outputs": [
        {
          "name": "stdout",
          "output_type": "stream",
          "text": [
            "1/1 [==============================] - 0s 14ms/step\n",
            "1/1 [==============================] - 0s 12ms/step\n",
            "1/1 [==============================] - 0s 12ms/step\n",
            "1/1 [==============================] - 0s 12ms/step\n",
            "1/1 [==============================] - 0s 12ms/step\n",
            "1/1 [==============================] - 0s 12ms/step\n",
            "1/1 [==============================] - 0s 12ms/step\n",
            "1/1 [==============================] - 0s 11ms/step\n",
            "1/1 [==============================] - 0s 11ms/step\n",
            "1/1 [==============================] - 0s 16ms/step\n",
            "1/1 [==============================] - 0s 12ms/step\n",
            "1/1 [==============================] - 0s 11ms/step\n",
            "1/1 [==============================] - 0s 12ms/step\n",
            "1/1 [==============================] - 0s 11ms/step\n",
            "1/1 [==============================] - 0s 11ms/step\n",
            "1/1 [==============================] - 0s 12ms/step\n",
            "1/1 [==============================] - 0s 11ms/step\n",
            "1/1 [==============================] - 0s 12ms/step\n",
            "1/1 [==============================] - 0s 12ms/step\n",
            "1/1 [==============================] - 0s 11ms/step\n",
            "1/1 [==============================] - 0s 11ms/step\n",
            "1/1 [==============================] - 0s 11ms/step\n",
            "1/1 [==============================] - 0s 11ms/step\n",
            "1/1 [==============================] - 0s 12ms/step\n",
            "1/1 [==============================] - 0s 12ms/step\n",
            "1/1 [==============================] - 0s 12ms/step\n",
            "1/1 [==============================] - 0s 12ms/step\n",
            "1/1 [==============================] - 0s 12ms/step\n",
            "1/1 [==============================] - 0s 11ms/step\n",
            "1/1 [==============================] - 0s 12ms/step\n",
            "1/1 [==============================] - 0s 11ms/step\n",
            "1/1 [==============================] - 0s 11ms/step\n",
            "1/1 [==============================] - 0s 11ms/step\n",
            "1/1 [==============================] - 0s 12ms/step\n",
            "1/1 [==============================] - 0s 12ms/step\n",
            "1/1 [==============================] - 0s 11ms/step\n",
            "1/1 [==============================] - 0s 11ms/step\n",
            "1/1 [==============================] - 0s 11ms/step\n",
            "1/1 [==============================] - 0s 11ms/step\n",
            "1/1 [==============================] - 0s 11ms/step\n",
            "1/1 [==============================] - 0s 12ms/step\n",
            "1/1 [==============================] - 0s 11ms/step\n",
            "1/1 [==============================] - 0s 11ms/step\n",
            "1/1 [==============================] - 0s 11ms/step\n",
            "1/1 [==============================] - 0s 11ms/step\n",
            "1/1 [==============================] - 0s 11ms/step\n",
            "1/1 [==============================] - 0s 12ms/step\n",
            "1/1 [==============================] - 0s 12ms/step\n",
            "1/1 [==============================] - 0s 12ms/step\n",
            "1/1 [==============================] - 0s 11ms/step\n",
            "1/1 [==============================] - 0s 11ms/step\n",
            "1/1 [==============================] - 0s 11ms/step\n",
            "1/1 [==============================] - 0s 12ms/step\n",
            "1/1 [==============================] - 0s 12ms/step\n",
            "1/1 [==============================] - 0s 12ms/step\n",
            "1/1 [==============================] - 0s 11ms/step\n",
            "1/1 [==============================] - 0s 11ms/step\n",
            "1/1 [==============================] - 0s 12ms/step\n",
            "1/1 [==============================] - 0s 12ms/step\n",
            "1/1 [==============================] - 0s 11ms/step\n",
            "1/1 [==============================] - 0s 12ms/step\n",
            "1/1 [==============================] - 0s 12ms/step\n",
            "1/1 [==============================] - 0s 12ms/step\n",
            "1/1 [==============================] - 0s 12ms/step\n",
            "1/1 [==============================] - 0s 12ms/step\n",
            "1/1 [==============================] - 0s 12ms/step\n",
            "1/1 [==============================] - 0s 12ms/step\n",
            "1/1 [==============================] - 0s 12ms/step\n",
            "1/1 [==============================] - 0s 12ms/step\n",
            "1/1 [==============================] - 0s 17ms/step\n",
            "1/1 [==============================] - 0s 12ms/step\n",
            "1/1 [==============================] - 0s 12ms/step\n",
            "1/1 [==============================] - 0s 11ms/step\n",
            "1/1 [==============================] - 0s 11ms/step\n",
            "1/1 [==============================] - 0s 11ms/step\n",
            "1/1 [==============================] - 0s 11ms/step\n",
            "1/1 [==============================] - 0s 12ms/step\n",
            "1/1 [==============================] - 0s 11ms/step\n",
            "1/1 [==============================] - 0s 11ms/step\n",
            "1/1 [==============================] - 0s 11ms/step\n",
            "1/1 [==============================] - 0s 11ms/step\n",
            "1/1 [==============================] - 0s 12ms/step\n",
            "1/1 [==============================] - 0s 11ms/step\n",
            "1/1 [==============================] - 0s 12ms/step\n",
            "1/1 [==============================] - 0s 12ms/step\n",
            "1/1 [==============================] - 0s 12ms/step\n",
            "1/1 [==============================] - 0s 12ms/step\n",
            "1/1 [==============================] - 0s 12ms/step\n",
            "1/1 [==============================] - 0s 12ms/step\n",
            "1/1 [==============================] - 0s 11ms/step\n",
            "1/1 [==============================] - 0s 11ms/step\n",
            "1/1 [==============================] - 0s 11ms/step\n",
            "1/1 [==============================] - 0s 11ms/step\n",
            "1/1 [==============================] - 0s 11ms/step\n",
            "1/1 [==============================] - 0s 11ms/step\n",
            "1/1 [==============================] - 0s 12ms/step\n",
            "1/1 [==============================] - 0s 12ms/step\n",
            "1/1 [==============================] - 0s 12ms/step\n",
            "1/1 [==============================] - 0s 12ms/step\n",
            "1/1 [==============================] - 0s 11ms/step\n",
            "1/1 [==============================] - 0s 11ms/step\n",
            "1/1 [==============================] - 0s 11ms/step\n",
            "1/1 [==============================] - 0s 11ms/step\n",
            "1/1 [==============================] - 0s 12ms/step\n",
            "1/1 [==============================] - 0s 12ms/step\n",
            "1/1 [==============================] - 0s 15ms/step\n",
            "1/1 [==============================] - 0s 11ms/step\n",
            "1/1 [==============================] - 0s 11ms/step\n",
            "1/1 [==============================] - 0s 12ms/step\n",
            "1/1 [==============================] - 0s 12ms/step\n",
            "1/1 [==============================] - 0s 12ms/step\n",
            "1/1 [==============================] - 0s 12ms/step\n",
            "1/1 [==============================] - 0s 12ms/step\n",
            "1/1 [==============================] - 0s 12ms/step\n",
            "1/1 [==============================] - 0s 12ms/step\n",
            "1/1 [==============================] - 0s 12ms/step\n",
            "1/1 [==============================] - 0s 12ms/step\n",
            "1/1 [==============================] - 0s 12ms/step\n",
            "1/1 [==============================] - 0s 12ms/step\n",
            "1/1 [==============================] - 0s 12ms/step\n",
            "1/1 [==============================] - 0s 12ms/step\n",
            "1/1 [==============================] - 0s 12ms/step\n",
            "1/1 [==============================] - 0s 12ms/step\n",
            "1/1 [==============================] - 0s 12ms/step\n",
            "1/1 [==============================] - 0s 12ms/step\n",
            "1/1 [==============================] - 0s 12ms/step\n",
            "1/1 [==============================] - 0s 12ms/step\n",
            "1/1 [==============================] - 0s 12ms/step\n",
            "1/1 [==============================] - 0s 11ms/step\n",
            "1/1 [==============================] - 0s 12ms/step\n",
            "1/1 [==============================] - 0s 12ms/step\n",
            "['\"아가 기념일 사진 셀프촬영할때마다 분위기용+포토용으로 구매했는데, 사진 촬영하면서도 예쁜 분위기 샤샤샥➰ 연출하면서 찍을 수 있어요😚\\U0001f90d✨ 아가드 비눗방울 덕분에 홈스튜디오 촬영 매번 대성공👼🏻\\U0001f90d💛✨✨ 촬영용 제외하고도 놀이용 또한 말모〰️ 우리 사랑둥이 아가가 아가드 비눗방울 놀이 너무 좋아해용👼🏻 선물용으로 하나 더 구매했었는데, 추가 구매 또한 계속 계속 하고 싶을 정도로 소장가치 충분해용👏🏻👏🏻💛\\U0001f90d✨✨\"\\n', '요즘 날이 좋아서 외출하면 아기한테 비누방울 불어주고 싶어 구매했어요. 역류방지 기능이 있어 아기가 직접 불면서 놀면 더 좋겠지만 아직 어려서 엄마가 아날로그ㅎㅎ 어린시절 추억 떠올리며 마구마구 불어줬습니다ㅎㅎ 아기자기 작은 비눗방울이 엄청 풍성하게 나와서 사진 찍기 좋고👍 쉽게 터지지 않아서 더 좋은 것 같아요! 화창한 날 아가드 비눗방울로 행복한 시간 보냈어요💓\\n', '\"살짝만 불어줘도 비눗방울 엄청엄청 많이 나와요 거의 쏟아져나오는 수준.ᐟ.ᐟ.ᐟ역류방지설계되어있어서 비눗물 마신적 없었고, 소재도 안전하고 진짜 잘 샀어요요고 하나면 외출 인생샷 무조건 건져요👍👍👍목욕시간에 비눗방울 불어줘도 대박 좋아해요💙진짜 찐찐 만족템 남편도 맘에든다고 해죠써요👀❤️\"\\n', '비눗방울놀이 너무 재밌어요.....저랑 남편이 더 좋아하는 비눗방울놀이〰️✨\\U0001f90d여러분 사세요 비눗방울나팔 최고예요...🙌🏻리필용액은 꼭 만들어주세요...\\U0001f90d 퐁퐁으로 만든 퀄리티랑 차원이 달라요...ㅋㅋㅋ오랫만에 남편이랑 재밌게 놀았어ㅇ...ㅋㅋㅋ아가드 사랑해요💛\\n', '곧 15개월 아기고 역류방지기능 덕분에 아기가 직접 불어볼 수 있는 부분때문에 바로 구매했어요 내일 놀러가서 사용할건데 짜잔 하고 보여줄 생각하니 벌써 기분 좋네용^^\\n', '내구성이깔끔하고좋아용비눗방울 액을 따로 더사고싶을땐어떻ㄱ하면되나요?그리고 잘안터진다고해서 샀는데비슷한거같아서 별하나뺏어요 ㅠㅠ\\n', '아기가 걸음마를 제법 하게되니 밖에서 비누방울 놀이하면 좋을거같아 구입했어요.아직 불어본진 않았지만 세트가 좋아보여요ㅎㅎ\\n', '라이브 방송때 저렴하게 잘 구매했어요ㅎ 아기가 비눗방울 보는거 좋아해서 날씨 풀리면 갖구나가서 놀아줄려구여~\\n', '빠른배송에 귀여운 패키지 좋아요비눗방울 구멍도 많고 다만 거치대도 좀 들고 다녀야 하는게 약간 번거롭긴해요\\n', '귀여워요 좋아용 오자마자 놀이터 가서 해줬는데울애기는 아직 8갤차 아기라 관심없고다른 큰 아가들이랑 놀아주다 왔어요ㅋㅋㅋ\\n', '아기랑 외출하면 해주려고 라방때 저렴하게 구매했어요!비눗방울도 많이나오고 오래가서 사진찍기 좋아요\\n', '역류방지가 되어 있어서 구입했습니다. 침이 닫는 부분이라 일반 플라스틱은 염려스러웠는데 옥수수 원료라니 믿을만 합니다\\n', '아직 사용안해봤지만 아가가 좋아했음 좋겠어요근데 액은 어케 바르는거지?ㅎ좀 살펴봐야겠네요ㅋ\\n', '어린이날 사용하려고 미리 구매 했어요~^^따로 구매하지 않고 비눗방울 세트로 구성되어서 좋아요~^^벌써부터 신나네요^^\\n', '사진찍을때 만족스럽게 썼어요~비눗방울이 작게 나와서 조금 아쉬운거 빼고는좋이요👍\\n', '비눗방울이 잘 안터지고 양이 엄청나요!ㅋㅋ아기가 너무 좋아해서 잘산것같습니다!!\\n', '예전에 자동 비눗방울을 산 적있는데 잘 안되더라구요 근데 이거는 정말 잘돼요! 일단 가볍고 비눗방울이 많이 나와요 아기가 불어도 잘 될 거 같아요 ^^\\n', '실리콘소재면 더 좋았을것 같아요 조금 이염이 있지만 비눗방울은 잘되네요\\n', '오자마자 가지고 나가서 불어주니아이가 너무 좋아하네요. 비눗방울 크기가 작아서 아이가 손으로 터트리면서 잘 놀았어요.\\n', '날씨가 좋아 아가랑 밖에서 즐겁게 사용하고 왔어요! 잘 안터져서 굿?!!!!!\\n', '다 하고 난 후 관리가 좀 어렵지만아기가 좋아해요~방울도 많이 나오네용\\n', '간편하게 많은 양의 비누방울도 만들고 즐겁게 놀 수 있는 물건입니다.\\n', '36개월이상이라고 해서 아직 못사용하고 있어요 제품은 좋아보입니다\\n', '아직 해보진 못했지만 기대중이에요!ㅋㅋ애기가 좋아했음 좋겠네요ㅋ\\n', '놀라가서 해주려고 구매했어요! 알고있던 비누방울이라 만족입니다 ~\\n', '아이 선물 줬는데 엄청 좋아해요 선물 포장까지 예쁘게 했어요 네모난 상자에 담아주셔서 좋았네요 크기는 물티슈만 해요\\n', '비누방울이 한번에 수십개~~정도많이 나와요ㅎ 아이도 좋아해요!!\\n', '아기가 우선 좋아하고 사진 찍을 때도 너무 잘 나와서 좋았어요~\\n', '조그마한 비눗방울들이 안터지고 촤라락 날리는게 너무 예뻐요\\n', '날씨 따뜻해지면 아기랑 밖에 산책할때 해보려고 구매했어요\\n', '귀여워요 ㅎㅎ 아기는아직 불지 못해 엄마인 제가 즐겁넹요\\n', '작아서 휴대하기도 쉽고 무엇보다 아기가 넘 좋아해요~~!!\\n', '아직 사옹은 안햇지만 아기가 퍙소애 비눗방울 좋아해요\\n', '빨리왔어요~본체는 한국인데 액상은 중국제품이네요 ㅠ\\n', '산책할때 놀아주려고 구매해요 역류가 안된다니 좋네요\\n', '제주도 여행가서 스냅샷 찍을때 사용하려고 구매했어용\\n', '아직 사용전인데 나들이 갈때 불어주려고 구매했어요~\\n', '방울이 많이 나와서 좋네요 아기가 아직 어려서 목욕시킬때 놀아주고 있어요 좋아하네요\\n', '아직 사용전이에요~~ 아이가 좋아했으면 좋겠네요^^\\n', '배송도 빠르고거품도잘나요아기가 엄청좋아해요\\n', '세상에 배송도 빠르고 안전하게 너무잘왔어요!애기랑 놀기에도 너무좋은거같아요! 주말에 해줘야겠어요 갓언니 이런 혜택 너무 좋아요 :3\\n', '아직 아기가 불지는 못 하지만 너무 좋아해요^^\\n', '조동이 쓰는거 보고 갠찮은거 같아 구매햇어요\\n', '오 엄청 잘 불려요!! 콕콕 찍어서 후~하면 비누방울이 많이 나와요! 잘 터지지도 않는 것 같구요 ㅎㅎ 아직 아가가 7개월이라 제가 열심히 불고 있어요 애엄마가 만족하는 템?ㅎㅎㅎ\\n', '아직 안써봤눈데 아기가 좋아했음 좋겠네요\\n', '아직사용은못해봄 나들이나갈때써보려구요\\n', '만족합니다! 목걸이로 나왓음 더 좋겟어요\\n', '방울도 잘 날라가고 아이가 재밌어 해요\\n', '아기가 너무 좋아할 것 같아 기대돼요❤\\n', '이번에 캠핑가면 써보려고 구매했어요:)\\n', '방울도 오래가고 아기가 너무 좋아해요\\n', '아직 사용 안해봤지만 마음에 들어요~~\\n', '귀엽고 얼릉 날 좋은날 해주고 시퍼요\\n', '가볍고 애기들 가지고 놀기 딱이에용\\n', '목욕할 때 해줬는데 너무 좋아하네용\\n', '너무좋아하네요목욕시간이 재밋어요\\n', '아직 사용은 안해밨지만 좋길바라며\\n', '거품이진짜잘나네용아기가좋아해용\\n', '아직 사용전이지만 귀엽고 좋아요 :)\\n', '잘불어지고 좋아요배송도 빨랐어요\\n', '아이가 조아해요. 잘 가지고 놉니다\\n', '아기가 잼있어서합니다 잘샀어요\\n', '아직안해봤지만 좋아할거같아요\\n', '제주도가서 너무 잘 사용했어요\\n', '친정에 갖다놓고 잘쓰고있어요~\\n', '아직사용전이지만좋을거같아요\\n', '잘 불리고 엄청 많이 나와요 ㅋ\\n', '비눗방울 마니나와서 좋아요 !!\\n', '비눗방울 좋아해서 구매했어요\\n', '나쁘지않아요 아기는 좋아해요\\n', '비눗방울이 많이나와서 좋아요\\n', '아직 사용전이지만 기대되요!\\n', '아이가좋아해요봄에역시꿀템\\n', '귀여워요 애기가 좋아했어요\\n', '너무 조아요ㅎㅎ맘에들어요\\n', '아기가 너무 좋아해요 ㅎㅎ\\n', '아이들이 많이 좋아했어요~\\n', '아가드라 믿고 주문했어요\\n', '거품이 풍성하고 오래가요\\n', '비눗방울이 적은 호흡으로 아주 풍성하게 잘불려요 ㅎㅎ 만족만족 굿굿\\n', '아기가 정말 재밌어해요!\\n', '4월에 놀러가서 쓰려고 구매했어요아이가 좋아해줬으면 좋겠어요!!배송 너무 빨라서 좋아요\\n', '아이가 엄청 좋아하네요\\n', '비눗방울 좋아하네요ㅎ\\n', '아이가 너무 좋아해용\\n', '아기가 좋아합니다 굿\\n', '아기가 좋아해요 ㅎㅎ\\n', '배송도 빠르고 아직 사용하기 전이지만 깨진 부분없이 잘 왔습니다. 빨리 아기 데리고 나가서 사용해보고싶네요~ 모양도 너무 이뻐요ㅋㅋ\\n', '날 좋아서 밖에서 아이 놀아줄때 해주려고 샀어요!! 방울이 많이 나와서 아이가 더 좋아하네요 :)\\n', '\"비눗방울이 잘 만들어져요ㅎㅎ아기는 아직 비눗방울 못 불어서,엄마아빠가 실컷 잘 가지고 놀았어요 ><\"\\n', '아이가 좋아해요..\\n', '문센에서 너무좋아하길래 구매했네요집에서도 해주려구요!!\\n', '방울이 부드럽게 많이 나와서 좋아요! ! 아이가 좋아해서 목욕시간마다 비눗방울놀이하고 놀이도해요!\\n', '배송 빨라요특가로 구매했어요 아기가 좋아했음 좋겠어요\\n', '비눗물을 묻혀야하지만 비눗방울이 많이 나와서 좋아요\\n', '\"아기가 비눗방울을 좋아해서 구매했는데, 너무 좋아해서 여전히 외출할때 잘 사용하고 있어요! 갬성 사진 찍을때도 너무 좋아요.\"\\n', '너무 잘 쓰고 있어요 배송도 빠르고 아이도 너무 조아하네용 ㅋㅋㅋ 그래서 추가 주문 하려고 합니다비눗방울도 잘 안터지고 멀리멀리 날아가서 좋아요\\n', '8갤 울 애기는 관심없고.. ㅠㅠ놀이터에서 다른 큰 아가들 놀아주고 왔네요 ㅋㅋ\\n', '감사합니다:) 잘쓸께요 또 구매할께요! 좋아요\\n', '좋아요애들이 엄청좋아해용ㅋㅋ\\n', '아기가 좋아하는 비눗방울비눗방울이 정말 많이 나오네요아가가 비눗방울이 처음이라 어리둥절 하다가 나중엔 비눗방울 잡으려고 신나게 달렸어요\\n', '아이가 너무 좋아해요 ㅎㅎ감사합니다\\n', '애기보다 어른이 더 좋아해요 ㅋㅋㅋ\\n', '아기가 좋아해요 :) 감사해요\\U0001f90d\\n', '잘받았습니다 감사합니다\\n', '아가팡인가요? 배송이 어쩜 이리도빠른지 ㅎㅎ주말에 나들이갈때 사진찍을때 해봐야겠어요ㅎㅎ아기가 아직 너무어려서 혼자서는 못하지만 정말 좋아할걱같아용ㅎㅎㅎ감사합니다\\n', '버블버블잘나와요ㅋㅋ\\n', '좋아용 아기도 너무 좋아해요\\n', '매번사용중인 제품 굿굿굿\\n', '좋아요. 아이가좋아해요\\n', '아기가 좋아해여 ㅎㅎㅎ\\n', '배송진짜파늡니다ㅋㅋㅋ\\n', '조아요조아요조아요조아요\\n']\n"
          ]
        }
      ],
      "source": [
        "a = []    # 빈 리스트 생성\n",
        " \n",
        "test = content\n",
        "for i in test:\n",
        "  if (sentiment_predict(str(i)) > 50):\n",
        "    a.append(i)    # append로 요소 추가\n",
        " \n",
        "print(a)"
      ]
    },
    {
      "cell_type": "code",
      "execution_count": 44,
      "metadata": {
        "id": "_u_Tnhm6YUGV"
      },
      "outputs": [],
      "source": [
        "# test = content\n",
        "# for i in test:\n",
        "#   if (sentiment_predict(str(i)) > 50):\n",
        "#     print(i, sep='\\n')"
      ]
    },
    {
      "cell_type": "code",
      "execution_count": 47,
      "metadata": {
        "id": "Ug62-lsC3k44"
      },
      "outputs": [],
      "source": [
        "import pandas as pd\n",
        "\n",
        "data = a\n",
        "\n",
        "df = pd.DataFrame(data)\n",
        "df.to_csv('good.csv', index=False)\n"
      ]
    },
    {
      "cell_type": "code",
      "execution_count": 50,
      "metadata": {},
      "outputs": [
        {
          "name": "stdout",
          "output_type": "stream",
          "text": [
            "1/1 [==============================] - 0s 13ms/step\n",
            "1/1 [==============================] - 0s 12ms/step\n",
            "1/1 [==============================] - 0s 13ms/step\n",
            "1/1 [==============================] - 0s 13ms/step\n",
            "1/1 [==============================] - 0s 12ms/step\n",
            "1/1 [==============================] - 0s 12ms/step\n",
            "1/1 [==============================] - 0s 11ms/step\n",
            "1/1 [==============================] - 0s 11ms/step\n",
            "1/1 [==============================] - 0s 12ms/step\n",
            "1/1 [==============================] - 0s 12ms/step\n",
            "1/1 [==============================] - 0s 12ms/step\n",
            "1/1 [==============================] - 0s 12ms/step\n",
            "1/1 [==============================] - 0s 12ms/step\n",
            "1/1 [==============================] - 0s 12ms/step\n",
            "1/1 [==============================] - 0s 12ms/step\n",
            "1/1 [==============================] - 0s 12ms/step\n",
            "1/1 [==============================] - 0s 11ms/step\n",
            "1/1 [==============================] - 0s 11ms/step\n",
            "1/1 [==============================] - 0s 11ms/step\n",
            "1/1 [==============================] - 0s 11ms/step\n",
            "1/1 [==============================] - 0s 11ms/step\n",
            "1/1 [==============================] - 0s 11ms/step\n",
            "1/1 [==============================] - 0s 11ms/step\n",
            "1/1 [==============================] - 0s 11ms/step\n",
            "1/1 [==============================] - 0s 11ms/step\n",
            "1/1 [==============================] - 0s 11ms/step\n",
            "1/1 [==============================] - 0s 12ms/step\n",
            "1/1 [==============================] - 0s 11ms/step\n",
            "1/1 [==============================] - 0s 11ms/step\n",
            "1/1 [==============================] - 0s 12ms/step\n",
            "1/1 [==============================] - 0s 12ms/step\n",
            "1/1 [==============================] - 0s 12ms/step\n",
            "1/1 [==============================] - 0s 12ms/step\n",
            "1/1 [==============================] - 0s 12ms/step\n",
            "1/1 [==============================] - 0s 12ms/step\n",
            "1/1 [==============================] - 0s 12ms/step\n",
            "1/1 [==============================] - 0s 12ms/step\n",
            "1/1 [==============================] - 0s 12ms/step\n",
            "1/1 [==============================] - 0s 12ms/step\n",
            "1/1 [==============================] - 0s 12ms/step\n",
            "1/1 [==============================] - 0s 12ms/step\n",
            "1/1 [==============================] - 0s 12ms/step\n",
            "1/1 [==============================] - 0s 12ms/step\n",
            "1/1 [==============================] - 0s 12ms/step\n",
            "1/1 [==============================] - 0s 12ms/step\n",
            "1/1 [==============================] - 0s 12ms/step\n",
            "1/1 [==============================] - 0s 11ms/step\n",
            "1/1 [==============================] - 0s 12ms/step\n",
            "1/1 [==============================] - 0s 11ms/step\n",
            "1/1 [==============================] - 0s 12ms/step\n",
            "1/1 [==============================] - 0s 12ms/step\n",
            "1/1 [==============================] - 0s 12ms/step\n",
            "1/1 [==============================] - 0s 12ms/step\n",
            "1/1 [==============================] - 0s 12ms/step\n",
            "1/1 [==============================] - 0s 12ms/step\n",
            "1/1 [==============================] - 0s 11ms/step\n",
            "1/1 [==============================] - 0s 11ms/step\n",
            "1/1 [==============================] - 0s 11ms/step\n",
            "1/1 [==============================] - 0s 11ms/step\n",
            "1/1 [==============================] - 0s 11ms/step\n",
            "1/1 [==============================] - 0s 12ms/step\n",
            "1/1 [==============================] - 0s 12ms/step\n",
            "1/1 [==============================] - 0s 11ms/step\n",
            "1/1 [==============================] - 0s 11ms/step\n",
            "1/1 [==============================] - 0s 11ms/step\n",
            "1/1 [==============================] - 0s 11ms/step\n",
            "1/1 [==============================] - 0s 12ms/step\n",
            "1/1 [==============================] - 0s 11ms/step\n",
            "1/1 [==============================] - 0s 11ms/step\n",
            "1/1 [==============================] - 0s 11ms/step\n",
            "1/1 [==============================] - 0s 12ms/step\n",
            "1/1 [==============================] - 0s 12ms/step\n",
            "1/1 [==============================] - 0s 12ms/step\n",
            "1/1 [==============================] - 0s 12ms/step\n",
            "1/1 [==============================] - 0s 11ms/step\n",
            "1/1 [==============================] - 0s 12ms/step\n",
            "1/1 [==============================] - 0s 12ms/step\n",
            "1/1 [==============================] - 0s 12ms/step\n",
            "1/1 [==============================] - 0s 12ms/step\n",
            "1/1 [==============================] - 0s 12ms/step\n",
            "1/1 [==============================] - 0s 12ms/step\n",
            "1/1 [==============================] - 0s 12ms/step\n",
            "1/1 [==============================] - 0s 12ms/step\n",
            "1/1 [==============================] - 0s 12ms/step\n",
            "1/1 [==============================] - 0s 12ms/step\n",
            "1/1 [==============================] - 0s 11ms/step\n",
            "1/1 [==============================] - 0s 12ms/step\n",
            "1/1 [==============================] - 0s 12ms/step\n",
            "1/1 [==============================] - 0s 12ms/step\n",
            "1/1 [==============================] - 0s 11ms/step\n",
            "1/1 [==============================] - 0s 11ms/step\n",
            "1/1 [==============================] - 0s 12ms/step\n",
            "1/1 [==============================] - 0s 11ms/step\n",
            "1/1 [==============================] - 0s 12ms/step\n",
            "1/1 [==============================] - 0s 12ms/step\n",
            "1/1 [==============================] - 0s 11ms/step\n",
            "1/1 [==============================] - 0s 11ms/step\n",
            "1/1 [==============================] - 0s 11ms/step\n",
            "1/1 [==============================] - 0s 11ms/step\n",
            "1/1 [==============================] - 0s 12ms/step\n",
            "1/1 [==============================] - 0s 11ms/step\n",
            "1/1 [==============================] - 0s 11ms/step\n",
            "1/1 [==============================] - 0s 12ms/step\n",
            "1/1 [==============================] - 0s 11ms/step\n",
            "1/1 [==============================] - 0s 12ms/step\n",
            "1/1 [==============================] - 0s 11ms/step\n",
            "1/1 [==============================] - 0s 12ms/step\n",
            "1/1 [==============================] - 0s 11ms/step\n",
            "1/1 [==============================] - 0s 11ms/step\n",
            "1/1 [==============================] - 0s 12ms/step\n",
            "1/1 [==============================] - 0s 11ms/step\n",
            "1/1 [==============================] - 0s 12ms/step\n",
            "1/1 [==============================] - 0s 12ms/step\n",
            "1/1 [==============================] - 0s 12ms/step\n",
            "1/1 [==============================] - 0s 12ms/step\n",
            "1/1 [==============================] - 0s 11ms/step\n",
            "1/1 [==============================] - 0s 12ms/step\n",
            "1/1 [==============================] - 0s 12ms/step\n",
            "1/1 [==============================] - 0s 18ms/step\n",
            "1/1 [==============================] - 0s 12ms/step\n",
            "1/1 [==============================] - 0s 11ms/step\n",
            "1/1 [==============================] - 0s 11ms/step\n",
            "1/1 [==============================] - 0s 11ms/step\n",
            "1/1 [==============================] - 0s 12ms/step\n",
            "1/1 [==============================] - 0s 12ms/step\n",
            "1/1 [==============================] - 0s 12ms/step\n",
            "1/1 [==============================] - 0s 12ms/step\n",
            "1/1 [==============================] - 0s 12ms/step\n",
            "1/1 [==============================] - 0s 12ms/step\n",
            "1/1 [==============================] - 0s 11ms/step\n",
            "1/1 [==============================] - 0s 12ms/step\n",
            "['애기랑 사이좋게 하려고 두개 샀어요 😁방울이 엄청 많이 나와요!!!액도 좋은건지 쿠x에서 산 비눗방울 액은방울이 아예 안만들아졌었는데 ! 😡아오이건 속 시원히 아주 빵빵 많이 나오네요!!!! 👍거기다 불 때 애가 실수로 들이켜도! !이거랑 비슷하게 생긴거 과거에 샀었는데그건 애가 실수로 마시면 입안 가득 거품이였는데😰요건 그런거 1도 없어서 !!그리고 라이브 때 엄청난 행운 주셔서 감사해여❤️\\u200d🔥넘 ㅎㅎ알라뷰 아가드👍❤️\\u200d🔥\\n', '애기반응은 그저그래요저랑 남편만좋아하네욬ㅋㅋ작은방울이많이나오네요\\n', '진짜 별루에요’ㅠㅠ 뒤로 넘어오고 조카가 사용못했습니다 ㅠ\\n', '견고하고 안전해보여요. 얼른 아가랑 밖에나가 불어보고 싶네요.\\n', '아무래도 입으로 불어야하니 풍성하게 나오진 않아요..ㅠㅠ\\n', '아직은 어려서 잘 못해요어른들이 불어주고 있어요\\n', '아..음..비눗방울이 잘 안나오네요....ㅜㅜ\\n', '너무 자잘하게 나와서 좀 아쉬워요ㅠㅠ\\n', '세워서해야되서 ..좀불편한감이있어요\\n', '아이가 잘 불지는 못하네요 ㅠㅠ\\n', '비눗방울 많이 나와요!\\n', '그냥그래요..;;;\\n', '생각보다 아이가 사용하기에 불편하네요...ㅠㅠ 다른 제품을 놓고 사용중이에요..ㅠㅠ액이 들어가는 공간이 너무 낮아서 금방 쏟아지고요....\\n', '비누방울이 너무 자잘하게 나온다는점거품이 생기면 방울이 잘 안불어진다는점.그것빼면 그냥저냥 쓸만해요.\\n', '비누방울이 너무 자잘자잘해서 아쉬웠어요\\n', '방울 잘나요 ㅋㅋ 리필용액 안파나여 왜 ㅠㅠ\\n', '기대 엄청 하고 구매했는데 역류하고 방울도 별로네요……조카한테 선물해줬는데 실망입니다\\n', '역류해요..ㅠㅠ 아기가 혼자 하고싶대서 줬는데 역류해요ㅜㅜ\\n']\n"
          ]
        }
      ],
      "source": [
        "b = []    # 빈 리스트 생성\n",
        " \n",
        "test = content\n",
        "for i in test:\n",
        "  if (sentiment_predict(str(i)) <= 50):\n",
        "    b.append(i)    # append로 요소 추가\n",
        " \n",
        "print(b)"
      ]
    },
    {
      "cell_type": "code",
      "execution_count": 51,
      "metadata": {},
      "outputs": [],
      "source": [
        "data = b\n",
        "\n",
        "df = pd.DataFrame(data)\n",
        "df.to_csv('bad.csv', index=False)"
      ]
    }
  ],
  "metadata": {
    "accelerator": "GPU",
    "colab": {
      "collapsed_sections": [],
      "include_colab_link": true,
      "name": "senticopy_LSTM.ipynb의 사본",
      "provenance": []
    },
    "gpuClass": "standard",
    "kernelspec": {
      "display_name": "Python 3 (ipykernel)",
      "language": "python",
      "name": "python3"
    },
    "language_info": {
      "codemirror_mode": {
        "name": "ipython",
        "version": 3
      },
      "file_extension": ".py",
      "mimetype": "text/x-python",
      "name": "python",
      "nbconvert_exporter": "python",
      "pygments_lexer": "ipython3",
      "version": "3.7.9"
    },
    "vscode": {
      "interpreter": {
        "hash": "916dbcbb3f70747c44a77c7bcd40155683ae19c65e1c03b4aa3499c5328201f1"
      }
    }
  },
  "nbformat": 4,
  "nbformat_minor": 0
}
